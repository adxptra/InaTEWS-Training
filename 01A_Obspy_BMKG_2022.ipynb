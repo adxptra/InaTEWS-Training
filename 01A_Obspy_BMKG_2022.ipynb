{
 "cells": [
  {
   "cell_type": "markdown",
   "id": "8b633e4e",
   "metadata": {},
   "source": [
    "# Pelatihan OBSPY 2021"
   ]
  },
  {
   "cell_type": "markdown",
   "id": "f34fcf26",
   "metadata": {},
   "source": [
    "## 1- UTCDateTime"
   ]
  },
  {
   "cell_type": "code",
   "execution_count": null,
   "id": "4ade528b",
   "metadata": {},
   "outputs": [],
   "source": [
    "from obspy.core import UTCDateTime\n",
    "print (UTCDateTime(\"2021-11-15T09:00:00\"))\n",
    "print(UTCDateTime(2021, 11, 15, 9, 0, 0)) # year, month, day, hour, min, sec, musec"
   ]
  },
  {
   "cell_type": "code",
   "execution_count": null,
   "id": "5367b5c2",
   "metadata": {},
   "outputs": [],
   "source": [
    "#atribut pada UTCDateTime\n",
    "time=UTCDateTime(\"2021-11-15T09:00:00\")\n",
    "print (time.year)\n",
    "print (time.julday)\n",
    "print (time.timestamp)\n",
    "print (time.weekday)"
   ]
  },
  {
   "cell_type": "code",
   "execution_count": null,
   "id": "917228f3",
   "metadata": {},
   "outputs": [],
   "source": [
    "#Bermain dengan UTCDateTime\n",
    "time1=UTCDateTime() #memanggil UTCTime sekarang\n",
    "time2=UTCDateTime(2021,11,15)\n",
    "print (time1)\n",
    "print (time2)\n",
    "print (time1-time2)\n",
    "print(time+12345)"
   ]
  },
  {
   "cell_type": "markdown",
   "id": "04a83e95",
   "metadata": {},
   "source": [
    "## Latihan 01\n",
    "- Hitung waktu yang telah berlalu semenjak hari anda lahir\n",
    "- Buat 20 UTCDateTime objects dimulai semenjak kemarin pukul 09:00 dengan spasi 2 jam."
   ]
  },
  {
   "cell_type": "code",
   "execution_count": null,
   "id": "b918cd4f",
   "metadata": {},
   "outputs": [],
   "source": [
    "tgl_sekarang = UTCDateTime()\n",
    "tgl_lahir = UTCDateTime(\"1979-05-13T06:00:00+07:00\")\n",
    "print (tgl_sekarang)\n",
    "print (tgl_lahir)\n",
    "print (waktu_sekarang - waktu_lahir)"
   ]
  },
  {
   "cell_type": "code",
   "execution_count": null,
   "id": "da89189b",
   "metadata": {},
   "outputs": [],
   "source": [
    "kemarin = UTCDateTime() - 86400\n",
    "kemarin_pukul_9 = UTCDateTime(kemarin.year, kemarin.month, kemarin.day, 9)\n",
    "daftar_waktu = [kemarin_pukul_9 + _i * 120 * 60 for _i in range(20)]\n",
    "print (kemarin)\n",
    "print (kemarin_pukul_9)\n",
    "print (daftar_waktu)\n",
    "\n"
   ]
  },
  {
   "cell_type": "markdown",
   "id": "0df9b44b",
   "metadata": {},
   "source": [
    "## 2- Membaca Waveform"
   ]
  },
  {
   "cell_type": "markdown",
   "id": "7f4805ad",
   "metadata": {},
   "source": [
    "### Membaca dan Memplot Stream\n",
    "\n",
    "obspy.read(): membaca data waveform ke obspy.Stream dan obspy.Trace"
   ]
  },
  {
   "cell_type": "code",
   "execution_count": null,
   "id": "699dc463",
   "metadata": {},
   "outputs": [],
   "source": [
    "#Membaca data waveform\n",
    "#Menggunakan data example dari obspy\n",
    "\n",
    "from obspy import read \n",
    "st = read() #load example seismogram from obspy\n",
    "print(st) #melihat isi dari st"
   ]
  },
  {
   "cell_type": "code",
   "execution_count": null,
   "id": "5006a7f4",
   "metadata": {},
   "outputs": [],
   "source": [
    "# Menggunakan .plot() untuk preview plot cepat\n",
    "st.plot()"
   ]
  },
  {
   "cell_type": "code",
   "execution_count": null,
   "id": "9707eaf6",
   "metadata": {},
   "outputs": [],
   "source": [
    "#Membaca file dari direktori kita - Mseed\n",
    "st = read(\"./exampleData/000000000_0036EE80.mseed\")  \n",
    "print(st) "
   ]
  },
  {
   "cell_type": "code",
   "execution_count": null,
   "id": "ad1568b8",
   "metadata": {},
   "outputs": [],
   "source": [
    "# Menggunakan .plot() untuk preview plot cepat\n",
    "st.plot()"
   ]
  },
  {
   "cell_type": "code",
   "execution_count": null,
   "id": "eb6ca633",
   "metadata": {},
   "outputs": [],
   "source": [
    "#Membaca file dari direktori kita - SAC\n",
    "st = read(\"./exampleData/test.sac\")\n",
    "print(st)\n",
    "# Informasi dari file SAC disimpan pada atribut .sac\n",
    "st[0].stats.sac.__dict__\n",
    "\n",
    "# File tersebut dapat kita save kembali dengan cara:\n",
    "st.write(\"temporary.sac\", format=\"sac\")"
   ]
  },
  {
   "cell_type": "code",
   "execution_count": null,
   "id": "8465ad21",
   "metadata": {},
   "outputs": [],
   "source": [
    "# Menggunakan .plot() untuk preview plot cepat\n",
    "st.plot()"
   ]
  },
  {
   "cell_type": "code",
   "execution_count": null,
   "id": "cfd9be14",
   "metadata": {},
   "outputs": [],
   "source": [
    "#Membaca banyak file sekaligus \n",
    "st = read(\"./exampleData/COP*\")  \n",
    "print(st) "
   ]
  },
  {
   "cell_type": "code",
   "execution_count": null,
   "id": "33a9479d",
   "metadata": {},
   "outputs": [],
   "source": [
    "# Menggunakan .plot() untuk preview plot cepat\n",
    "st.plot()"
   ]
  },
  {
   "cell_type": "code",
   "execution_count": null,
   "id": "244a6ec6",
   "metadata": {},
   "outputs": [],
   "source": [
    "#Membaca file dari website\n",
    "st = read(\"https://examples.obspy.org/loc_RJOB20050831023349.z\")\n",
    "print(st)"
   ]
  },
  {
   "cell_type": "code",
   "execution_count": null,
   "id": "5ac0eabc",
   "metadata": {},
   "outputs": [],
   "source": [
    "# Menggunakan .plot() untuk preview plot cepat\n",
    "st.plot()"
   ]
  },
  {
   "cell_type": "markdown",
   "id": "1410fa48",
   "metadata": {},
   "source": [
    "### Data yang bisa didownload dari obspy melalui website: https://examples.obspy.org/"
   ]
  },
  {
   "cell_type": "markdown",
   "id": "b4e38c34",
   "metadata": {},
   "source": [
    "### Membaca Trace"
   ]
  },
  {
   "cell_type": "code",
   "execution_count": null,
   "id": "0264eee5",
   "metadata": {},
   "outputs": [],
   "source": [
    "st = read('./exampleData/array_morocco_muenster_2012-08-14.mseed')\n",
    "\n",
    "tr=st[0]\n",
    "print(tr)\n",
    "tr.data\n",
    "tr.stats.network = \"3D\" #Mengganti nama network\n",
    "print(tr.stats)\n"
   ]
  },
  {
   "cell_type": "markdown",
   "id": "f59c9838",
   "metadata": {},
   "source": [
    "### LATIHAN 02\n",
    "\n",
    "- Download data mseed dari obspy atau dari data center lainnya, kemudian jawab hal berikut:\n",
    "    1. Sebutkan nama-nama stasiun yang merekam\n",
    "    2. Terdiri dari berapa komponen stasiun2 tersebut?\n",
    "    3. Kapan starttime dan endtime nya?\n",
    "    2. Berapa sampling rate nya?\n",
    "    3. Plot komponen z saja dari waveform tersebut"
   ]
  },
  {
   "cell_type": "markdown",
   "id": "b43a5384",
   "metadata": {},
   "source": [
    "## 3. Plotting Waveform"
   ]
  },
  {
   "cell_type": "code",
   "execution_count": null,
   "id": "67c0817b",
   "metadata": {},
   "outputs": [],
   "source": [
    "from obspy.core import read\n",
    "threechannels = read('./exampleData/array_morocco_muenster_2012-08-14.mseed')\n",
    "\n",
    "print(threechannels)"
   ]
  },
  {
   "cell_type": "code",
   "execution_count": null,
   "id": "a85850a5",
   "metadata": {},
   "outputs": [],
   "source": [
    "#Plot satu channel\n",
    "singlechannel=threechannels[0]\n",
    "singlechannel.plot()\n",
    "\n",
    "#Customized plot\n",
    "singlechannel.plot(color='blue', bgcolor='yellow',number_of_ticks=3)\n",
    "\n",
    "#Customized plot\n",
    "singlechannel.plot(color='blue', bgcolor='yellow',number_of_ticks=3,type='dayplot')"
   ]
  },
  {
   "cell_type": "markdown",
   "id": "15add3a9",
   "metadata": {},
   "source": []
  },
  {
   "cell_type": "code",
   "execution_count": null,
   "id": "bf52b2f3",
   "metadata": {},
   "outputs": [],
   "source": [
    "#Plot satu channel \n",
    "#starttime dan endtime\n",
    "singlechannel=threechannels[0]\n",
    "singlechannel.plot()\n",
    "\n",
    "time = UTCDateTime(\"2012-08-14T02:45:10\")\n",
    "\n",
    "#Customized plot\n",
    "singlechannel.plot(color='blue', bgcolor='yellow',number_of_ticks=3, starttime=time, endtime=time+10*60)"
   ]
  },
  {
   "cell_type": "markdown",
   "id": "d53b5135",
   "metadata": {},
   "source": [
    "### Latihan 03\n",
    "\n",
    "- Plot waveform dengan panjang data hanya 10 menit yang mencakup noise dan gelombang P, Gunakan atribut starttime dan endtime pada .plot()"
   ]
  },
  {
   "cell_type": "markdown",
   "id": "5f6401f4",
   "metadata": {},
   "source": [
    "## 4. Station Data"
   ]
  },
  {
   "cell_type": "code",
   "execution_count": null,
   "id": "8a5e9bd1",
   "metadata": {},
   "outputs": [],
   "source": [
    "import obspy\n",
    "\n",
    "# Menggunakan read_inventory function untuk membuka file.\n",
    "inv = obspy.read_inventory(\"./exampleData/BW_KW1.xml\")\n",
    "print(inv)"
   ]
  },
  {
   "cell_type": "code",
   "execution_count": null,
   "id": "b54b6d01",
   "metadata": {},
   "outputs": [],
   "source": [
    "# Plot stasiun\n",
    "inv.plot(projection=\"local\")"
   ]
  },
  {
   "cell_type": "code",
   "execution_count": null,
   "id": "81afdbbd",
   "metadata": {},
   "outputs": [],
   "source": [
    "# Plot response instrument\n",
    "inv.select(network=\"BW\", station=\"KW1\").plot_response(0.001);"
   ]
  },
  {
   "cell_type": "code",
   "execution_count": 13,
   "id": "5e891984",
   "metadata": {},
   "outputs": [],
   "source": [
    "#get_coordinates digunakan untuk mendapatkan koordinat dari suatu stasiun\n",
    "inv.get_coordinates(\"BW.KW1..EHZ\")\n",
    "\n",
    "# Kita juga bisa menulis kembali stasiun yang kita miliki ke file lain\n",
    "inv.select(channel=\"EHZ\").write(\"temp.xml\", format=\"stationxml\")"
   ]
  },
  {
   "cell_type": "markdown",
   "id": "2b9d3456",
   "metadata": {},
   "source": [
    "## 5. Event Data"
   ]
  },
  {
   "cell_type": "code",
   "execution_count": null,
   "id": "f8ebef18",
   "metadata": {},
   "outputs": [],
   "source": [
    "# Membaca quakeml dengan read_events() function.\n",
    "# Data event dapat didownload dari web: usgs\n",
    "cat = obspy.read_events(\"exampleData/2.5_day.quakeml\")\n",
    "print(cat)\n",
    "\n",
    "print(cat[0])"
   ]
  },
  {
   "cell_type": "code",
   "execution_count": null,
   "id": "8feae6be",
   "metadata": {},
   "outputs": [],
   "source": [
    "cat.plot(projection=\"ortho\",resolution=\"i\", label=\"magnitude\");"
   ]
  },
  {
   "cell_type": "code",
   "execution_count": null,
   "id": "9b9192ee",
   "metadata": {},
   "outputs": [],
   "source": [
    "cat.filter(\"magnitude > 5\")"
   ]
  },
  {
   "cell_type": "markdown",
   "id": "eb40f8f4",
   "metadata": {},
   "source": [
    "### Latihan 4\n",
    "- Download dari USGS: Data gempa di Indonesia dari awal tahun 2020 hingga sekarang\n",
    "- Plot gempa dengan magnitude > 4"
   ]
  },
  {
   "cell_type": "markdown",
   "id": "dc2eaf74",
   "metadata": {},
   "source": [
    "## 6. Download Data dari Data Center FDSN \n"
   ]
  },
  {
   "cell_type": "code",
   "execution_count": null,
   "id": "565c8820",
   "metadata": {},
   "outputs": [],
   "source": [
    "import obspy\n",
    "from obspy.clients.fdsn import Client\n",
    "\n",
    "client = Client(\"IRIS\")\n",
    "t = obspy.UTCDateTime(\"2020-07-06T22:54:47.0\")  # South Java Earthquake\n",
    "st = client.get_waveforms(\"IU\", \"MBWA\", \"00\", \"BHZ\",\n",
    "                          t - 5 * 60, t + 15 * 60)\n",
    "print(st)\n",
    "st.plot()"
   ]
  },
  {
   "cell_type": "code",
   "execution_count": null,
   "id": "aee416b8",
   "metadata": {},
   "outputs": [],
   "source": [
    "catalog = client.get_events(starttime=t - 5*3600, endtime=t + 5*3600,\n",
    "                            minmagnitude=6)\n",
    "print(catalog)\n",
    "catalog.plot();"
   ]
  },
  {
   "cell_type": "code",
   "execution_count": null,
   "id": "ce5737f8",
   "metadata": {},
   "outputs": [],
   "source": [
    "event = catalog[0]\n",
    "origin = event.origins[0]\n",
    "\n",
    "\n",
    "#Posisi sembarang\n",
    "lon = -109\n",
    "lat = -5\n",
    "\n",
    "# Mendapatkan list stasiun dengan radius 10 derajat\n",
    "inventory = client.get_stations(longitude=lon, latitude=lat,\n",
    "                                maxradius=10, level=\"station\",\n",
    "                                starttime=obspy.UTCDateTime())\n",
    "print(inventory)\n",
    "inventory.plot(projection=\"local\", resolution=\"i\");"
   ]
  },
  {
   "cell_type": "markdown",
   "id": "86bdf105",
   "metadata": {},
   "source": [
    "get_stations() https://docs.obspy.org/packages/autogen/obspy.clients.fdsn.client.Client.get_stations.html#obspy.clients.fdsn.client.Client.get_stations"
   ]
  },
  {
   "cell_type": "code",
   "execution_count": null,
   "id": "c96f3afe",
   "metadata": {},
   "outputs": [],
   "source": []
  }
 ],
 "metadata": {
  "kernelspec": {
   "display_name": "Python 3 (Spyder)",
   "language": "python3",
   "name": "python3"
  },
  "language_info": {
   "codemirror_mode": {
    "name": "ipython",
    "version": 3
   },
   "file_extension": ".py",
   "mimetype": "text/x-python",
   "name": "python",
   "nbconvert_exporter": "python",
   "pygments_lexer": "ipython3",
   "version": "3.7.6"
  }
 },
 "nbformat": 4,
 "nbformat_minor": 5
}
