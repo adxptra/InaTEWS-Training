{
 "cells": [
  {
   "cell_type": "raw",
   "metadata": {},
   "source": [
    "#MATPLOTLIB\n",
    "\n",
    "zulfakriza@itb.ac.id\n",
    "\n",
    "Pada bagian ini diperkenalkan:\n",
    "1- Plotting kurva pada matplotlib\n",
    "2- Mengatur plotting kurva\n",
    "3- Plotting Basemap \n",
    "4- Plotting Peta Indonesia\n",
    "\n",
    "\n",
    "Let's Go!!!"
   ]
  },
  {
   "cell_type": "code",
   "execution_count": null,
   "metadata": {},
   "outputs": [],
   "source": [
    "#Plot kurva sederhana\n",
    "\n",
    "#1- import modul\n",
    "import numpy as np\n",
    "import matplotlib.pyplot as plt\n",
    "\n",
    "#2- siapkan data\n",
    "a = np.array([1, 2, 3, 4, 5])\n",
    "b = np.array([1, 4, 9, 16, 25])\n",
    "c = np.array([2, 8, 18, 35, 50])\n",
    "\n",
    "#3- perintah plotting\n",
    "plt.plot(a,b)\n",
    "plt.plot(a,c)\n",
    "\n",
    "#judul\n",
    "plt.title('Contoh Kurva Saja')\n",
    "plt.xlabel('Waktu(hari)')\n",
    "plt.ylabel('Kasus Covid-19(orang)')\n",
    "\n",
    "plt.text(4, 40, 'Indonesia' )\n",
    "plt.text(4, 20, 'Rusia' )\n",
    "\n",
    "#4- menampilkan kurva\n",
    "plt.show()\n"
   ]
  },
  {
   "cell_type": "code",
   "execution_count": null,
   "metadata": {},
   "outputs": [],
   "source": [
    "#Basemap\n",
    "\n",
    "#1- import modul\n",
    "from mpl_toolkits.basemap import Basemap\n",
    "import matplotlib.pyplot as plt\n",
    "\n",
    "#2-Perintah plot basemap\n",
    "map = Basemap()\n",
    "map.drawcoastlines()\n",
    "\n",
    "#3-eksekusi\n",
    "plt.show()\n"
   ]
  },
  {
   "cell_type": "code",
   "execution_count": null,
   "metadata": {},
   "outputs": [],
   "source": [
    "#PR-4\n",
    "\n",
    "#Plot peta pulau tempat kalian tinggal "
   ]
  }
 ],
 "metadata": {
  "kernelspec": {
   "display_name": "Python 3 (Spyder)",
   "language": "python3",
   "name": "python3"
  },
  "language_info": {
   "codemirror_mode": {
    "name": "ipython",
    "version": 3
   },
   "file_extension": ".py",
   "mimetype": "text/x-python",
   "name": "python",
   "nbconvert_exporter": "python",
   "pygments_lexer": "ipython3",
   "version": "3.7.6"
  }
 },
 "nbformat": 4,
 "nbformat_minor": 4
}
