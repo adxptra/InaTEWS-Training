{
 "cells": [
  {
   "cell_type": "raw",
   "metadata": {},
   "source": [
    "#NUMPY\n",
    "\n",
    "zulfakriza@itb.ac.id\n",
    "\n",
    "Pada bagian ini diperkenalkan:\n",
    "1- Aturan fungsi pada bahasa Pyhton\n",
    "2- Tentang Numpy\n",
    "3- Aritmatika pada Numpy\n",
    "4- Perkalian matrix\n",
    "5- Manipulasi matrix\n"
   ]
  },
  {
   "cell_type": "code",
   "execution_count": 1,
   "metadata": {},
   "outputs": [
    {
     "name": "stdout",
     "output_type": "stream",
     "text": [
      "Nilai c =  7\n"
     ]
    }
   ],
   "source": [
    "a = 3\n",
    "b = 4\n",
    "\n",
    "c = a + b\n",
    "print('Nilai c = ', c)"
   ]
  },
  {
   "cell_type": "code",
   "execution_count": 2,
   "metadata": {},
   "outputs": [
    {
     "data": {
      "text/plain": [
       "int"
      ]
     },
     "execution_count": 2,
     "metadata": {},
     "output_type": "execute_result"
    }
   ],
   "source": [
    "type(c)"
   ]
  },
  {
   "cell_type": "code",
   "execution_count": 4,
   "metadata": {},
   "outputs": [
    {
     "name": "stdout",
     "output_type": "stream",
     "text": [
      "Nilai c =  7.140000000000001\n"
     ]
    }
   ],
   "source": [
    "a = 3.14\n",
    "b = 4\n",
    "\n",
    "c = a + b\n",
    "print('Nilai c = ', c)"
   ]
  },
  {
   "cell_type": "code",
   "execution_count": 5,
   "metadata": {},
   "outputs": [
    {
     "data": {
      "text/plain": [
       "float"
      ]
     },
     "execution_count": 5,
     "metadata": {},
     "output_type": "execute_result"
    }
   ],
   "source": [
    "type(c)"
   ]
  },
  {
   "cell_type": "code",
   "execution_count": 6,
   "metadata": {},
   "outputs": [],
   "source": [
    "#PR - 1\n",
    "#Jika persamaan t = xy + z, dengan x = 3, y = 5 dan z = 6. Selesaikan dalam script python? "
   ]
  },
  {
   "cell_type": "code",
   "execution_count": 7,
   "metadata": {},
   "outputs": [],
   "source": [
    "#variabel x, y dan z dengan persamaan t = xy + z\n",
    "\n",
    "def compute_t(x, y, z):\n",
    "    t = x * y + z\n",
    "    return t"
   ]
  },
  {
   "cell_type": "code",
   "execution_count": 8,
   "metadata": {},
   "outputs": [
    {
     "data": {
      "text/plain": [
       "28"
      ]
     },
     "execution_count": 8,
     "metadata": {},
     "output_type": "execute_result"
    }
   ],
   "source": [
    "compute_t(4, 5, 8)"
   ]
  },
  {
   "cell_type": "code",
   "execution_count": 9,
   "metadata": {},
   "outputs": [],
   "source": [
    "#PR - 2\n",
    "#Koversi Tempratur.\n",
    "#Ubah nilai Celcius ke Fahreinheit dengan menggunakan fungsi dalam python?"
   ]
  },
  {
   "cell_type": "code",
   "execution_count": 10,
   "metadata": {},
   "outputs": [
    {
     "name": "stdout",
     "output_type": "stream",
     "text": [
      "[1 2 3 4 5]\n",
      "[1.  2.  3.5 4.  5. ]\n"
     ]
    }
   ],
   "source": [
    "#Numpy\n",
    "\n",
    "#01_Membuat vektor (1-D Array)\n",
    "import numpy as np\n",
    "\n",
    "a1 = np.array([1, 2, 3, 4, 5])\n",
    "a2 = np.array([1, 2, 3.5, 4, 5])\n",
    "\n",
    "print(a1)\n",
    "print(a2)\n"
   ]
  },
  {
   "cell_type": "code",
   "execution_count": 12,
   "metadata": {},
   "outputs": [
    {
     "name": "stdout",
     "output_type": "stream",
     "text": [
      "[0 2 4 6 8]\n"
     ]
    }
   ],
   "source": [
    "#02 range\n",
    "import numpy as np\n",
    "\n",
    "b = np.arange(0, 10, 2)\n",
    "\n",
    "print(b)"
   ]
  },
  {
   "cell_type": "code",
   "execution_count": 13,
   "metadata": {},
   "outputs": [
    {
     "name": "stdout",
     "output_type": "stream",
     "text": [
      "[[ 1  2  3  4  5]\n",
      " [ 6  7  8  9 10]]\n"
     ]
    }
   ],
   "source": [
    "#03 Array multidimensi (matrix)\n",
    "import numpy as np\n",
    "d = np.array( [  (1, 2, 3, 4, 5),  (6, 7, 8, 9, 10) ] )\n",
    "\n",
    "print(d)"
   ]
  },
  {
   "cell_type": "code",
   "execution_count": 15,
   "metadata": {},
   "outputs": [
    {
     "name": "stdout",
     "output_type": "stream",
     "text": [
      "[[1. 1. 1. 1. 1.]\n",
      " [1. 1. 1. 1. 1.]\n",
      " [1. 1. 1. 1. 1.]\n",
      " [1. 1. 1. 1. 1.]\n",
      " [1. 1. 1. 1. 1.]]\n"
     ]
    }
   ],
   "source": [
    "import numpy as np\n",
    "\n",
    "e = np.ones( (5, 5))\n",
    "\n",
    "print(e)"
   ]
  },
  {
   "cell_type": "code",
   "execution_count": null,
   "metadata": {},
   "outputs": [],
   "source": [
    "#aritmatika dalam numpy\n",
    "\n",
    "#Perkalian Matrix\n",
    "\n",
    "#PR - 3\n",
    "# a= [1,2,3] [4,5,6]\n",
    "#b= matrix (np.ones ([3,3]))\n",
    "#Selesaikan perkalian matrix di atas dengan menggunakan numpy\n"
   ]
  }
 ],
 "metadata": {
  "kernelspec": {
   "display_name": "Python 3 (Spyder)",
   "language": "python3",
   "name": "python3"
  },
  "language_info": {
   "codemirror_mode": {
    "name": "ipython",
    "version": 3
   },
   "file_extension": ".py",
   "mimetype": "text/x-python",
   "name": "python",
   "nbconvert_exporter": "python",
   "pygments_lexer": "ipython3",
   "version": "3.7.6"
  }
 },
 "nbformat": 4,
 "nbformat_minor": 4
}
