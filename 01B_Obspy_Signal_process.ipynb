{
 "cells": [
  {
   "cell_type": "markdown",
   "id": "e35964cb",
   "metadata": {},
   "source": [
    "# Pelatihan OBSPY 2021"
   ]
  },
  {
   "cell_type": "markdown",
   "id": "9172dd4d",
   "metadata": {},
   "source": [
    "## REVIEW PERTEMUAN I (16 NOV 2021)"
   ]
  },
  {
   "cell_type": "markdown",
   "id": "d8344d8f",
   "metadata": {},
   "source": [
    "## 1- Membaca dan Menyimpan Data Waveform"
   ]
  },
  {
   "cell_type": "markdown",
   "id": "cbe4cdd4",
   "metadata": {},
   "source": [
    "- Pada pertemuan 1, kita sudah melakukan pembacaan data waveform dan Obspy memiliki kemampuan untuk membaca data dalam beberapa format \n",
    "- Salah satu format file standard yang umum digunakan adalah miniSEED."
   ]
  },
  {
   "cell_type": "code",
   "execution_count": null,
   "id": "d508b6ec",
   "metadata": {},
   "outputs": [],
   "source": [
    "#import fungsi read dari modul obspy\n",
    "from obspy import read\n",
    "\n",
    "#membaca file mseed yang tersimpan pada direktori obspy\n",
    "st1 = read()\n",
    "\n",
    "#print variable st untuk melihat waveform\n",
    "print(st1)\n"
   ]
  },
  {
   "cell_type": "code",
   "execution_count": null,
   "id": "bc2f89c2",
   "metadata": {},
   "outputs": [],
   "source": [
    "#membaca file mseed yang tersimpan pada direktori yang sama dengan file ini.\n",
    "st2 = read(\"./exampleData/000000000_0036EE80.mseed\")\n",
    "\n",
    "#print variable st untuk melihat waveform\n",
    "print(st2)"
   ]
  },
  {
   "cell_type": "markdown",
   "id": "f98a1558",
   "metadata": {},
   "source": [
    "Script di atas meminta ObsPy untuk membaca seismogram dengan menggunakan fungsi read dan menyimpannya dalam variabel st sebagai obyek Stream."
   ]
  },
  {
   "cell_type": "markdown",
   "id": "fbb2f250",
   "metadata": {},
   "source": [
    "- Stream Object\n",
    "Stream merupakan class object yang mengatur kumpulan Trace. Trace sendiri adalah obyek dengan data series kontinu rekaman seismik. Pada contoh di atas, file miniSEED seismogram terdiri dari 3 buah Trace yaitu dua rekaman seismogram komponen horizontal (BH1 dan BH2) serta satu rekaman seismogram komponen vertikal (BHZ). Silahkan kunjungi link ini untuk mengetahui lebih lanjut konvensi penamaan seismic channel.\n",
    "\n",
    "- Trace Object\n",
    "Obyek Stream pada dasarnya adalah type data “list” dalam bahasa pemrograman python yang artinya kumpulan data di dalamnya dapat diakses melalui indeks. \n",
    "Untuk mengakses trace rekaman channel BHZ dapat dilakukan dengan perintah sebagai berikut:"
   ]
  },
  {
   "cell_type": "code",
   "execution_count": null,
   "id": "26434e5c",
   "metadata": {},
   "outputs": [],
   "source": [
    "tr = st1[2]\n",
    "print(tr)"
   ]
  },
  {
   "cell_type": "markdown",
   "id": "f5106c2e",
   "metadata": {},
   "source": [
    "Obyek trace merupakan kumpulan data kontinu yang menggambarkan rekaman getaran yang terjadi di bawah permukaan bumi. Data tersebut berupa python array yang dapat diakses dengan cara:"
   ]
  },
  {
   "cell_type": "code",
   "execution_count": null,
   "id": "cb355a6e",
   "metadata": {},
   "outputs": [],
   "source": [
    "data = tr.data\n",
    "\n",
    "#print data\n",
    "print(data)"
   ]
  },
  {
   "cell_type": "code",
   "execution_count": null,
   "id": "ca456e0d",
   "metadata": {},
   "outputs": [],
   "source": [
    "#cek tipe data\n",
    "type(data)"
   ]
  },
  {
   "cell_type": "markdown",
   "id": "fa1f7e66",
   "metadata": {},
   "source": [
    "Selain memuat data rekaman seismik, obyek trace juga menyimpan informasi lain yang terdapat dalam class Stats. \n",
    "Informasi yang dimuat diantaranya berupa kode network, station, location dan channel dari data."
   ]
  },
  {
   "cell_type": "code",
   "execution_count": null,
   "id": "030c0685",
   "metadata": {},
   "outputs": [],
   "source": [
    "#untuk akses stats pada trace\n",
    "print(tr.stats)"
   ]
  },
  {
   "cell_type": "markdown",
   "id": "2b271f78",
   "metadata": {},
   "source": [
    "Masing-masing informasi tersebut dapat diakses dan disimpan dalam variabel tersendiri untuk mempermudah jika nanti diperlukan."
   ]
  },
  {
   "cell_type": "code",
   "execution_count": null,
   "id": "eb853bc9",
   "metadata": {},
   "outputs": [],
   "source": [
    "starttime = tr.stats.starttime\n",
    "endtime = tr.stats.endtime\n",
    "\n",
    "#print\n",
    "print(starttime)\n",
    "print(endtime)"
   ]
  },
  {
   "cell_type": "markdown",
   "id": "6ecfe318",
   "metadata": {},
   "source": [
    "## 2- Plot Waveform (Seismogram)"
   ]
  },
  {
   "cell_type": "markdown",
   "id": "c4df65b7",
   "metadata": {},
   "source": [
    "- Salah satu kemudahan pada modul ObsPy adalah pembuatan plot data seismogram dengan tampilan default yang telah disiapkan sehingga pengguna tidak perlu mengatur nilai x, y, ticks, judul maupun skala dari hasil plot.\n",
    "\n",
    "- Menganut konsep Object-Oriented Programming, obyek Trace telah dilengkapi dengan public method plot yang dapat langsung dieksekusi dengan cara:"
   ]
  },
  {
   "cell_type": "code",
   "execution_count": null,
   "id": "47fd4263",
   "metadata": {},
   "outputs": [],
   "source": [
    "#perintah untuk plot wavform (stream)\n",
    "st1.plot()"
   ]
  },
  {
   "cell_type": "code",
   "execution_count": null,
   "id": "16dd049d",
   "metadata": {},
   "outputs": [],
   "source": [
    "#perintah untuk plot wavform (trace)\n",
    "tr.plot()"
   ]
  },
  {
   "cell_type": "markdown",
   "id": "bdb59065",
   "metadata": {},
   "source": [
    "Fungsi plot memberikan beberapa pilihan untuk mengatur hasil plot wavform. \n",
    "Pada script berikut, plot akan diubah menjadi warna biru (color = blue), menggunakan format tick waktu AM/PM, serta pemotongan tampilan seismogram menjadi 1800 s atau 30 menit setelah starttime hingga 900 detik atau 15 menit sebelum endtime."
   ]
  },
  {
   "cell_type": "code",
   "execution_count": null,
   "id": "f6af39de",
   "metadata": {},
   "outputs": [],
   "source": [
    "tr.plot(color='blue', tick_format='%I:%M %p', \n",
    "        starttime=tr.stats.starttime-5, endtime=tr.stats.endtime+20)"
   ]
  },
  {
   "cell_type": "code",
   "execution_count": null,
   "id": "3b653281",
   "metadata": {},
   "outputs": [],
   "source": [
    "#membaca data waveform pada direktori\n",
    "st = read(\"./exampleData/000000000_0036EE80.mseed\")\n",
    "tr = st[2]\n",
    "print(tr)"
   ]
  },
  {
   "cell_type": "code",
   "execution_count": null,
   "id": "1ab6675d",
   "metadata": {},
   "outputs": [],
   "source": [
    "#plot secara keseluruhan\n",
    "#tr.plot()\n",
    "\n",
    "#mengatur plot\n",
    "tr.plot(starttime=tr.stats.starttime, endtime=tr.stats.endtime, \n",
    "        size=(800, 250), dpi=100, color='blue', bgcolor='white', \n",
    "        tick_rotation=0, type='normal', linewidth=0.2, linestyle='-')"
   ]
  },
  {
   "cell_type": "markdown",
   "id": "c315555b",
   "metadata": {},
   "source": [
    "Dapat dilihat bahwa fungsi plot memiliki beberapa pilihan parameter yang dapat diubah seperti:\n",
    "- starttime : menentukan titik awal data untuk tampilan plot\n",
    "- endtime : menentukan titik akhir data untuk tampilan plot\n",
    "- size : ukuran plot\n",
    "- dpi : resolusi dot per inch\n",
    "- color : warna grafik\n",
    "- bgcolor : warna latar\n",
    "- transparent : menentukan apakah latar akan transparan atau tidak\n",
    "- tick_rotation : kemiringan tick dalam derajat\n",
    "- type : tipe plot yang diinginkan\n",
    "- linewidth : tebal garis\n",
    "- linestyle : style garis\n",
    "- outfile : untuk menyimpan hasil plot"
   ]
  },
  {
   "cell_type": "markdown",
   "id": "9805469e",
   "metadata": {},
   "source": [
    "Dengan mengubah nilai dari paramater / argumen yang dimiliki oleh fungsi plot maka kita dapat membuat hasil plot menjadi berbeda. Sebagai contoh:"
   ]
  },
  {
   "cell_type": "code",
   "execution_count": null,
   "id": "91956128",
   "metadata": {},
   "outputs": [],
   "source": [
    "tr.plot(starttime=tr.stats.starttime+1800, endtime=tr.stats.endtime-900, \n",
    "        size=(900, 350), dpi=120, color='white', bgcolor='#000000', \n",
    "        transparent=False, tick_rotation=20, linewidth=.75, \n",
    "        linestyle=':')"
   ]
  },
  {
   "cell_type": "markdown",
   "id": "50f02431",
   "metadata": {},
   "source": [
    "## 3- Plot Waveform (Seismogram) 1 hari"
   ]
  },
  {
   "cell_type": "code",
   "execution_count": null,
   "id": "8320e720",
   "metadata": {},
   "outputs": [],
   "source": [
    "st = read(\"./exampleData/IT.ITB-J..HNE.D.2021.201\")   \n",
    "print(st)\n",
    "st.plot(type='dayplot')"
   ]
  },
  {
   "cell_type": "markdown",
   "id": "d0e858ad",
   "metadata": {},
   "source": [
    "# Signal Processing"
   ]
  },
  {
   "cell_type": "markdown",
   "id": "a2289604",
   "metadata": {},
   "source": [
    "## 1- Remove Instrument Response"
   ]
  },
  {
   "cell_type": "markdown",
   "id": "b6938ee8",
   "metadata": {},
   "source": [
    "- Hasil rekaman seismogram tidak secara langsung merepresentasikan getaran yang terjadi di bawah permukaan bumi. \n",
    "- Rekaman seismograf tersebut merupakan gabungan (coupling) dari berbagai faktor, salah satunya adalah respon instrumen itu sendiri. \n",
    "- Setiap instrumen memiliki karakteristik masing-masing yang mana hal tersebut sangat mempengaruhi cara kerja instrumen dalam melakukan perekaman dan menghasilkan data.\n",
    "\n",
    "Sebelum melakukan analisis lebih lanjut terhadap seismogram, langkah pertama yang harus kita lakukan adalah menghilangkan respon instrumen untuk mendapatkan representasi aktual dari getaran bawah permukaan bumi.\n",
    "\n"
   ]
  },
  {
   "cell_type": "raw",
   "id": "4bed873a",
   "metadata": {},
   "source": [
    "Mengakses pusat data dan memperoleh data waveform, stasiun dan event menggunakan fungsi client pada ObsPy. Koreksi respon instrumen dapat dimulai dengan memperoleh informasi mengenai stasiun seismik yang ingin kita analisis."
   ]
  },
  {
   "cell_type": "raw",
   "id": "68093979",
   "metadata": {},
   "source": [
    "Import modul yang diperlukan kemudian pada contoh ini kita akan menggunakan studi kasus yang sama seperti sebelumnya yaitu memilih client IRIS dan stasiun seismik IU.MBWA. Selanjutnya tentukan rentang waktu yang diinginkan. Hal ini mengingat informasi mengenai stasiun dapat berubah sewaktu-waktu dikarenakan pergantian sensor, pengaturan kalibrasi ataupun hal lain.\n",
    "\n",
    "Gunakan fungsi get_stations()untuk mendapatkan informasi mengenai stasiun seismik."
   ]
  },
  {
   "cell_type": "code",
   "execution_count": null,
   "id": "923e702a",
   "metadata": {},
   "outputs": [],
   "source": [
    "from obspy.clients.fdsn import Client\n",
    "from obspy import UTCDateTime\n",
    "client = Client(\"IRIS\")\n",
    "#st = read(\"./exampleData/IT.ITB-J..HNE.D.2021.201\") \n",
    "starttime = UTCDateTime(\"2020-07-22T06:00:00.000\")\n",
    "endtime = starttime + 3600\n",
    "\n",
    "#Gunakan fungsi get_stations()untuk mendapatkan informasi mengenai stasiun seismik.\n",
    "inv = client.get_stations(network=\"IU\", station=\"ANMO\", location=\"00\", \n",
    "                          channel=\"LHZ\", level=\"response\", starttime=starttime, \n",
    "                          endtime=endtime)\n",
    "print(inv)\n",
    "\n",
    "#st.plot()"
   ]
  },
  {
   "cell_type": "raw",
   "id": "368a6b26",
   "metadata": {},
   "source": [
    "Plot respon instrumen menggunakan fungsi plot_response() yang membutuhkan argumen min_freq."
   ]
  },
  {
   "cell_type": "code",
   "execution_count": null,
   "id": "630af0f3",
   "metadata": {},
   "outputs": [],
   "source": [
    "inv.plot_response(min_freq=0.001)"
   ]
  },
  {
   "cell_type": "markdown",
   "id": "4af880ad",
   "metadata": {},
   "source": [
    "Gambar di atas merupakan grafik Bode yang terdiri dari dua grafik yaitu respon amplitudo dan respon fase terhadap frekuensi. Jika kita perhatikan, instrumen kanal LHZ merekam dengan tr.stats.sampling_rate = 1 sampel per detik sehingga memiliki Frekuensi Nyquist sebesar 0.5 Hz (garis putus-putus vertikal).\n",
    "\n",
    "Plot di atas tidak menunjukkan respon instrumen semata melainkan seluruh rangkaian proses perekaman data termasuk proses konversi analog ke digital maupun tahapan filter digital yang mungkin terjadi. "
   ]
  },
  {
   "cell_type": "raw",
   "id": "bad0c080",
   "metadata": {},
   "source": [
    "Respon instrumen mendeskripsikan bagaimana data yang terekam bertransformasi menjadi data yang tersimpan dalam sebuah file sehingga untuk mendapatkan gambaran aktual getaran bawah permukaan bumi diperlukan proses inversi. Dekonvolusi respon instrumen akan mengkonversi data kembali pada satuan aslinya."
   ]
  },
  {
   "cell_type": "raw",
   "id": "cb471737",
   "metadata": {},
   "source": [
    "Untuk lokasi dan waktu yang sama dengan kasus di atas, maka rekaman time-seriesnya adalah\n"
   ]
  },
  {
   "cell_type": "code",
   "execution_count": null,
   "id": "d215ec5f",
   "metadata": {},
   "outputs": [],
   "source": [
    "st = client.get_waveforms(network=\"IU\", station=\"ANMO\", location=\"00\", \n",
    "                          channel=\"LHZ\", starttime=starttime, endtime=endtime)\n",
    "st.plot()"
   ]
  },
  {
   "cell_type": "raw",
   "id": "57d46aa6",
   "metadata": {},
   "source": [
    "Koreksi respon instrumen merupakan metode yang berada di obyek class Trace dan memiliki beberapa pilihan argumen\n"
   ]
  },
  {
   "cell_type": "code",
   "execution_count": null,
   "id": "59a0c7cd",
   "metadata": {},
   "outputs": [],
   "source": [
    "Trace.remove_response(inventory=None, output=’VEL’, water_level=60, \n",
    "                      pre_filt=None, zero_mean=True, taper=True, \n",
    "                      taper_fraction=0.05, plot=False, fig=None"
   ]
  },
  {
   "cell_type": "markdown",
   "id": "67d1da6f",
   "metadata": {},
   "source": [
    "- inventory : file metadata stasiun, tidak diperlukan jika sebelumnya telah melakukan attach_response terhadap data waveform\n",
    "- output : Satuan output, dapat berupa \"DISP\", \"VEL\" atau \"ACC\"\n",
    "- water_level : water level untuk proses dekonvolusi\n",
    "- pre_filt : Bandpass filter pada domain frekuensi sebelum proses dekonvolusi. Berupa tuple (f1, f2, f3, f4)\n",
    "- zero_mean : Mean waveform akan dikurangi pada domain waktu sebelum proses dekonvolusi\n",
    "- taper : Cosine taper domain waktu sebelum dekonvolusi\n",
    "- taper_fraction : Nilai cosine taper\n",
    "- plot : Menampilkan plot proses koreksi respon instrumen"
   ]
  },
  {
   "cell_type": "raw",
   "id": "fc42049b",
   "metadata": {},
   "source": [
    "Maka pada contoh kasus kita dapat dilakukan pengaturan seperti berikut:"
   ]
  },
  {
   "cell_type": "code",
   "execution_count": null,
   "id": "ba9fba83",
   "metadata": {},
   "outputs": [],
   "source": [
    "tr = st[0]\n",
    "\n",
    "pre_filt = [0.001, 0.005, 45, 50]\n",
    "tr.remove_response(inventory=inv, pre_filt=pre_filt, output=\"VEL\",\n",
    "                   water_level=60, plot=True)"
   ]
  },
  {
   "cell_type": "markdown",
   "id": "c1950f65",
   "metadata": {},
   "source": [
    "## 2- Filtering\n"
   ]
  },
  {
   "cell_type": "raw",
   "id": "16a58de3",
   "metadata": {},
   "source": [
    "Rekaman seismogram yang kita miliki mengandung beragam frekuensi dan seringkali kita ingin melihat dan melakukan analisis pada rentang frekuensi tertentu. \n",
    "\n",
    "Dalam seismologi, filter umumnya digunakan untuk melakukan koreksi respon instrumen, menghilangkan frekuensi yang tidak diperlukan, menghindari efek aliasing dan lainnya. \n",
    "\n",
    "Pada ObsPy, filtering dilakukan menggunakan modul obspy.filter."
   ]
  },
  {
   "cell_type": "raw",
   "id": "c32037e3",
   "metadata": {},
   "source": [
    "Proses filtering merupakan proses konvolusi sinyal dengan fungsi respon impuls dari filter yang mana proses ini cukup kompleks secara matematis dan komputasi. \n",
    "\n",
    "Sedangkan di domain frekuensi, proses filtering adalah proses perkalian antara sinyal dan respon filter. Oleh karena itu, proses filtering umumnya dilakukan dengan mengkonversi (transformasi) sinyal ke domain frekuensi melalui transformasi Fourier, kemudian melakukan perkalian dengan fungsi respon filter dan lalu kembali ke domain waktu. \n",
    "\n",
    "Dengan demikian, perlu diperhatikan karakteristik dan potensi kesalahan yang dapat terjadi dalam melakukan transformasi Fourier."
   ]
  },
  {
   "cell_type": "raw",
   "id": "1356bcea",
   "metadata": {},
   "source": [
    "Langkah pertama adalah mendapatkan data waveform. "
   ]
  },
  {
   "cell_type": "code",
   "execution_count": null,
   "id": "3c33a64b",
   "metadata": {},
   "outputs": [],
   "source": [
    "# Import modul\n",
    "from obspy.clients.fdsn import Client\n",
    "from obspy import UTCDateTime\n",
    "# Pilih IRIS sebagai client\n",
    "client = Client(\"IRIS\")\n",
    "# Tentukan rentang waktu\n",
    "starttime = UTCDateTime(\"2020-07-22T06:00:00.000\")\n",
    "endtime = starttime + 3600\n",
    "# Request waveform\n",
    "st = client.get_waveforms(network=\"IU\", station=\"ANMO\", location=\"00\", channel=\"LHZ\", starttime=starttime, \n",
    "                           endtime=endtime, attach_response = True)\n",
    "\n",
    "# Koreksi respon instrumen\n",
    "st.remove_response(output=\"VEL\")\n",
    "st.detrend('linear')\n",
    "st.detrend('demean')\n",
    "st.plot()"
   ]
  },
  {
   "cell_type": "raw",
   "id": "527b01e0",
   "metadata": {},
   "source": [
    "Sebelum melakukan proses filtering, kita akan terlebih dahulu mencoba melihat frequency content pada seismogram ini. Yang perlu dilakukan adalah:"
   ]
  },
  {
   "cell_type": "code",
   "execution_count": null,
   "id": "b0f9df57",
   "metadata": {},
   "outputs": [],
   "source": [
    "# Import modul\n",
    "import numpy as np\n",
    "import matplotlib.pyplot as plt\n",
    "\n",
    "# Menghitung rentang frequency (untuk plot sumbu x)\n",
    "npts = st[0].stats.npts \n",
    "dt = st[0].stats.delta                  \n",
    "fNy = 1. / (2. * dt)                     \n",
    "freq = np.linspace(0, fNy, npts // 2 + 1)\n",
    "\n",
    "# FFT untuk nilai amplitudo (sumbu y)\n",
    "amp = np.fft.rfft(st[0].data)\n",
    "\n",
    "\n",
    "# Plotting\n",
    "plt.plot(freq, abs(amp), 'k')\n",
    "plt.title('frequency-domain data \\n amplitude spectrum')\n",
    "plt.ylabel('amplitude')\n",
    "plt.xlim(0,0.12)"
   ]
  },
  {
   "cell_type": "raw",
   "id": "b29d667b",
   "metadata": {},
   "source": [
    "Setelah melihat frequency content dari data yang kita miliki, sekarang kita akan melakukan filtering terhadap data. Sebagai contoh, jenis filtering yang akan kita lakukan adalah low-pass filtering.\n"
   ]
  },
  {
   "cell_type": "code",
   "execution_count": null,
   "id": "efe98e93",
   "metadata": {},
   "outputs": [],
   "source": [
    "# Menghitung rentang frekuensi\n",
    "npts = st[0].stats.npts    \n",
    "dt = st[0].stats.delta               \n",
    "fNy = 1. / (2. * dt)                     \n",
    "freq = np.linspace(0, fNy, npts // 2 + 1)\n",
    "\n",
    "# Rentang waktu\n",
    "time = np.arange(0, npts) * dt\n",
    "\n",
    "# Parameter lowpass                           \n",
    "corners = 4\n",
    "f0 = 0.04\n",
    "\n",
    "# Proses lowpass filtering\n",
    "stLP = st.copy()\n",
    "stLP.filter('lowpass', freq=f0, corners=corners, zerophase=True)\n",
    "\n",
    "# Menghitung amplitudo\n",
    "LPspec = np.fft.rfft(stLP[0].data)\n",
    "\n",
    "# ---------Plotting------------#\n",
    "plt.rcParams['figure.figsize'] = 17, 4\n",
    "tx1 = 500\n",
    "tx2 = 3600\n",
    "fx2 = 0.12\n",
    "\n",
    "fig = plt.figure()\n",
    "\n",
    "ax = fig.add_subplot(1,2,1)\n",
    "ax.ticklabel_format(style='sci', axis='y', scilimits=(-1,1))\n",
    "plt.plot(time, stLP[0].data, 'k')\n",
    "plt.title('time-domain data')\n",
    "plt.xlim(tx1, tx2)\n",
    "plt.ylabel('LOWPASS  \\n amplitude [ms$^-1$]')\n",
    "\n",
    "ax2 = fig.add_subplot(1,2,2)\n",
    "plt.plot(freq, abs(LPspec), 'k')\n",
    "plt.title('frequency-domain data \\n amplitude spectrum')\n",
    "plt.ylabel('amplitude ')\n",
    "plt.xlim(0,fx2)"
   ]
  },
  {
   "cell_type": "markdown",
   "id": "783c0a11",
   "metadata": {},
   "source": [
    "Jika kita perhatikan, fungsi filter pada script di atas diakses melalui object stream yang kita definisikan, yaitu stLP. Fungsi filter membutuhkan setidaknya satu argumen yakni tipe filter yang diinginkan yang dapat diikuti oleh beberapa argumen pilihan. Pada contoh di atas, kita memilih tipe filter “lowpass” dengan beberapa argumen yang dapat ditambahkan seperti:\n",
    "\n",
    "- freq : batas nilai frekuensi\n",
    "- df : sampling rate frekuensi\n",
    "- corners : orde frekuensi\n",
    "- zerophase : memastikan zerophase shift\n"
   ]
  },
  {
   "cell_type": "raw",
   "id": "b5c3b362",
   "metadata": {},
   "source": [
    "Selain low-pass filter, ObsPy mendukung berbagai macam jenis filter lainnya, seperti penggunaan high-pass filter dan band-pass filter."
   ]
  },
  {
   "cell_type": "markdown",
   "id": "157f331b",
   "metadata": {},
   "source": [
    "## 2- Plot Spektogram"
   ]
  },
  {
   "cell_type": "raw",
   "id": "76386d5f",
   "metadata": {},
   "source": [
    "Cara umum untuk melihat rekaman seismogram adalah dengan membuat plot nilai amplitudo terhadap waktu (time-series). \n",
    "\n",
    "Dalam ObsPy kita dapat melakukannya menggunakan metode plot() yang dapat dipanggil langsung dari obyek class Stream ataupun Trace. \n",
    "\n",
    "Berbeda dengan plot time series, spektrogram memberikan cara lain untuk menampilkan rekaman seismik dengan menghadirkan secara visual representasi kekuatan sinyal atau tingkat kelantangan terhadap waktu pada rentang frekuensi tertentu yang terdapat dalam waveform."
   ]
  },
  {
   "cell_type": "raw",
   "id": "891cf668",
   "metadata": {},
   "source": [
    "Selain dapat melihat kekutan sinyal pada frekuensi tertentu, pada spektrogram kita juga dapat melihat variasi perubahan kekutan sinyal tersebut terhadap waktu. \n",
    "\n",
    "Dalam seismologi, spektrogram umunya diperlukan untuk membedakan beberapa tipe gempa bumi atau getaran lain di bawah permukaan bumi.\n"
   ]
  },
  {
   "cell_type": "raw",
   "id": "51a50cbe",
   "metadata": {},
   "source": [
    "Pada ObsPy, plot spektrogram dapat dilakukan dengan cara yang serupa dengan plot time series. Contoh kali ini akan menggunakan rekaman seismik gempa bumi doublet di Selatan Pulau Sumatera pada 18 Agustus 2020 lalu."
   ]
  },
  {
   "cell_type": "code",
   "execution_count": null,
   "id": "3306d2ed",
   "metadata": {},
   "outputs": [],
   "source": [
    "#import modul yang diperlukan\n",
    "\n",
    "from obspy.clients.fdsn import Client\n",
    "from obspy import UTCDateTime"
   ]
  },
  {
   "cell_type": "raw",
   "id": "a3814851",
   "metadata": {},
   "source": [
    "Selanjutnya tentukan penyedia data atau client, dalam hal kita pakai “GFZ” dengan jaringan stasiun “GE” seismik stasiun “MNAI” yang dapat dilihat di laman FDSN ini. \n",
    "\n",
    "Berdasarkan katalog USGS, waktu terjadinya gempa bumi pertama adalah sekitar 2020–08–18 22:23:59 (UTC) dan yang kedua adalah 2020–08–18 22:29:24 (UTC).\n"
   ]
  },
  {
   "cell_type": "code",
   "execution_count": null,
   "id": "0212993b",
   "metadata": {},
   "outputs": [],
   "source": [
    "client = Client(\"GFZ\")\n",
    "starttime = UTCDateTime(\"2020-08-18T22:23:00\")\n",
    "st = client.get_waveforms(\"GE\", \"MNAI\", \"\", \"BHZ\", \n",
    "                          starttime, starttime + 15 * 60, attach_response=True)"
   ]
  },
  {
   "cell_type": "code",
   "execution_count": null,
   "id": "a3355188",
   "metadata": {},
   "outputs": [],
   "source": [
    "#Lakukan koreksi respon instrumen, kemudian plot Trace.\n",
    "\n",
    "# remove respon instrumen\n",
    "st = st.remove_response( output=\"VEL\" )\n",
    "tr = st[0]\n",
    "tr.plot()\n"
   ]
  },
  {
   "cell_type": "code",
   "execution_count": null,
   "id": "6ec35b00",
   "metadata": {},
   "outputs": [],
   "source": [
    "#Untuk melihat spektrogram dari trace tersebut dapat dilakukan dengan cara:\n",
    "\n",
    "tr.spectrogram()\n"
   ]
  },
  {
   "cell_type": "raw",
   "id": "a4a36af5",
   "metadata": {},
   "source": [
    "Kita dapat melakukan beberapa pengaturan pada tampilan spektrogram di atas. Beberapa pengaturan tersebut diatur pada argumen fungsi spectrogram():\n"
   ]
  },
  {
   "cell_type": "code",
   "execution_count": null,
   "id": "0bec2ec9",
   "metadata": {},
   "outputs": [],
   "source": [
    "spectrogram(data, samp_rate, per_lap=0.9, wlen=None, log=False, outfile=None, \n",
    "            fmt=None, axes=None, dbscale=False, mult=8.0, \n",
    "            cmap=<matplotlib.colors.LinearSegmentedColormap object at 0x43166aac>, \n",
    "            zorder=None, title=None, show=True, sphinx=False, clip=[0.0, 1.0])\n"
   ]
  },
  {
   "cell_type": "raw",
   "id": "c55c0f9e",
   "metadata": {},
   "source": [
    "Untuk menampilkan signal strength dalam desibel (dB) serta frekuensi dalam skala logaritmik dapat dilakukan dengan cara:"
   ]
  },
  {
   "cell_type": "code",
   "execution_count": null,
   "id": "6a2877f4",
   "metadata": {},
   "outputs": [],
   "source": [
    "tr.spectrogram(log=True, dbscale=True)"
   ]
  },
  {
   "cell_type": "markdown",
   "id": "ab039ca7",
   "metadata": {},
   "source": [
    "## 3- Resample Data"
   ]
  },
  {
   "cell_type": "code",
   "execution_count": null,
   "id": "a55ea5ec",
   "metadata": {},
   "outputs": [],
   "source": [
    "import obspy\n",
    "from obspy.clients.fdsn import Client\n",
    "\n",
    "#Read Data\n",
    "client = Client(\"IRIS\")\n",
    "t = obspy.UTCDateTime(\"2020-07-06T22:54:47.0\")  # South Java Earthquake\n",
    "st = client.get_waveforms(\"IU\", \"MBWA\", \"00\", \"BHZ\",\n",
    "                          t - 5 * 60, t + 15 * 60)\n",
    "\n",
    "inv = client.get_stations(network=\"IU\", station=\"MBWA\", location=\"00\", channel=\"BHZ\",\n",
    "                          level=\"response\", starttime=t - 10, endtime=t + 10)\n",
    "st.plot()\n"
   ]
  },
  {
   "cell_type": "code",
   "execution_count": null,
   "id": "ea3416b5",
   "metadata": {},
   "outputs": [],
   "source": [
    "tr=st[0]\n",
    "tr2=tr.copy() #copy file\n",
    "print(tr2)\n",
    "tr2.plot()\n",
    "\n",
    "#Resample Data\n",
    "tr2.resample(sampling_rate=1)\n",
    "print(tr2)\n",
    "tr2.plot()"
   ]
  },
  {
   "cell_type": "markdown",
   "id": "9bdec400",
   "metadata": {},
   "source": [
    "## 4- Downsampling Data"
   ]
  },
  {
   "cell_type": "code",
   "execution_count": null,
   "id": "6a39aeb7",
   "metadata": {},
   "outputs": [],
   "source": [
    "tr=st[0]\n",
    "tr2=tr.copy() #copy file\n",
    "print(tr2)\n",
    "tr2.plot()\n",
    "\n",
    "#Downsampling data 40 Hz ke 20 Hz dengan faktor 2.\n",
    "tr2.decimate(factor=2, strict_length=False)\n",
    "print(tr2)\n",
    "tr2.plot()"
   ]
  },
  {
   "cell_type": "markdown",
   "id": "e4d68791",
   "metadata": {},
   "source": [
    "## 5- Cutting Data "
   ]
  },
  {
   "cell_type": "code",
   "execution_count": null,
   "id": "44e7aa63",
   "metadata": {},
   "outputs": [],
   "source": [
    "tr=st[0]\n",
    "tr2=tr.copy() #copy file\n",
    "print(tr2)\n",
    "\n",
    "#cut the data\n",
    "tr2.trim(tr2.stats.starttime + 8 * 60, tr2.stats.starttime + 10 * 60)\n",
    "print(tr2)\n",
    "tr2.plot()"
   ]
  },
  {
   "cell_type": "code",
   "execution_count": null,
   "id": "abda6ae0",
   "metadata": {},
   "outputs": [],
   "source": []
  }
 ],
 "metadata": {
  "kernelspec": {
   "display_name": "Python 3 (Spyder)",
   "language": "python3",
   "name": "python3"
  },
  "language_info": {
   "codemirror_mode": {
    "name": "ipython",
    "version": 3
   },
   "file_extension": ".py",
   "mimetype": "text/x-python",
   "name": "python",
   "nbconvert_exporter": "python",
   "pygments_lexer": "ipython3",
   "version": "3.7.6"
  }
 },
 "nbformat": 4,
 "nbformat_minor": 5
}
