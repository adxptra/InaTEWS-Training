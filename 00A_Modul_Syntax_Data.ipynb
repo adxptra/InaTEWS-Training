{
 "cells": [
  {
   "cell_type": "raw",
   "metadata": {},
   "source": [
    "#HELLO WORLD\n",
    "\n",
    "zulfakriza@itb.ac.id\n",
    "\n",
    "Pada bagian ini diperkenalkan:\n",
    "1- Aturan syntax yang digunakan pada bahasa Pyhton\n",
    "2- Tipe data dan merubah tipe data pada bahasa Python\n",
    "3- Aritmatika sederhana pada bahasa Python\n",
    "4- List dan Tuple pada bahasa Python\n",
    "5- Loop pada bahasa Python\n"
   ]
  },
  {
   "cell_type": "code",
   "execution_count": null,
   "metadata": {},
   "outputs": [],
   "source": [
    "print('Hello World')"
   ]
  },
  {
   "cell_type": "code",
   "execution_count": null,
   "metadata": {},
   "outputs": [],
   "source": [
    "print('Python untuk Seismologi')"
   ]
  },
  {
   "cell_type": "code",
   "execution_count": null,
   "metadata": {},
   "outputs": [],
   "source": [
    "a = 'Python untuk Seismologi'\n",
    "\n",
    "print(a)"
   ]
  },
  {
   "cell_type": "code",
   "execution_count": null,
   "metadata": {},
   "outputs": [],
   "source": [
    "type(a)"
   ]
  },
  {
   "cell_type": "code",
   "execution_count": null,
   "metadata": {},
   "outputs": [],
   "source": [
    "a = 'item_1 +\\\n",
    "        item_2 +\\\n",
    "        item_3' \n",
    "\n",
    "print(a)"
   ]
  },
  {
   "cell_type": "code",
   "execution_count": null,
   "metadata": {},
   "outputs": [],
   "source": [
    "hari = ['Senin', 'Selasa', 'Rabu', 'Kamis',\n",
    "       'Jumat', 'Sabtu', 'Minggu']\n",
    "\n",
    "print(hari)"
   ]
  },
  {
   "cell_type": "code",
   "execution_count": null,
   "metadata": {},
   "outputs": [],
   "source": [
    "pelatihan = 'Pengantar Bahasa Python'\n",
    "Penyelenggara = \"Pusat Gempabumi dan Tsunami BMKG \"\n",
    "\n",
    "print(pelatihan)\n",
    "print(Penyelenggara)"
   ]
  },
  {
   "cell_type": "raw",
   "metadata": {},
   "source": [
    "#01_Memahami tipe data pada Python"
   ]
  },
  {
   "cell_type": "code",
   "execution_count": null,
   "metadata": {},
   "outputs": [],
   "source": [
    "data_integer = 20\n",
    "\n",
    "print ('data :', data_integer, 'memiliki tipe: ', type(data_integer))"
   ]
  },
  {
   "cell_type": "code",
   "execution_count": null,
   "metadata": {},
   "outputs": [],
   "source": [
    "data  = 'seismologi'\n",
    "\n",
    "print ('data :', data, 'memiliki tipe: ', type(data))"
   ]
  },
  {
   "cell_type": "code",
   "execution_count": null,
   "metadata": {},
   "outputs": [],
   "source": [
    "data = 5.7 \n",
    "print ('data :', data, 'memiliki tipe: ', type(data))"
   ]
  },
  {
   "cell_type": "code",
   "execution_count": null,
   "metadata": {},
   "outputs": [],
   "source": [
    "data = True\n",
    "print ('data :', data, 'memiliki tipe: ', type(data))"
   ]
  },
  {
   "cell_type": "code",
   "execution_count": null,
   "metadata": {},
   "outputs": [],
   "source": [
    "data = complex(3,10)\n",
    "print ('data :', data, 'memiliki tipe: ', type(data))"
   ]
  },
  {
   "cell_type": "raw",
   "metadata": {},
   "source": [
    "#02_Merubah tipe data"
   ]
  },
  {
   "cell_type": "code",
   "execution_count": null,
   "metadata": {},
   "outputs": [],
   "source": [
    "#casting tipe data\n",
    "#merubah dari satu tipe data ke tipe data yang lain\n",
    "#Tipe data int, float, str, bool\n",
    "\n",
    "data_int = 9\n",
    "print ('data : ', data_int, 'memiliki tipe: ', type(data_int))"
   ]
  },
  {
   "cell_type": "code",
   "execution_count": null,
   "metadata": {},
   "outputs": [],
   "source": [
    "data_int = 9\n",
    "print ('data : ', data_int, 'memiliki tipe: ', type(data_int))\n",
    "\n",
    "data_float = float(data_int)\n",
    "data_str = str(data_int)\n",
    "\n",
    "print('data : ', data_float, 'memiliki tipe: ', type(data_float))\n",
    "print('data : ', data_str, 'memiliki tipe: ', type(data_str))"
   ]
  },
  {
   "cell_type": "raw",
   "metadata": {},
   "source": [
    "#03 Aritmatika"
   ]
  },
  {
   "cell_type": "code",
   "execution_count": null,
   "metadata": {},
   "outputs": [],
   "source": [
    "a = 2\n",
    "b = 4\n",
    "\n",
    "c = a ** b\n",
    "print(c)"
   ]
  },
  {
   "cell_type": "raw",
   "metadata": {},
   "source": [
    "#04 Konversi temperatur"
   ]
  },
  {
   "cell_type": "code",
   "execution_count": null,
   "metadata": {},
   "outputs": [],
   "source": [
    "#Konversi Nilai Temperatur\n",
    "\n",
    "C = float(input('Masukkan nilai suhu dalam derajat celcius :'))\n",
    "\n",
    "print('suhu adalah', C, 'Celcius')"
   ]
  },
  {
   "cell_type": "code",
   "execution_count": null,
   "metadata": {},
   "outputs": [],
   "source": [
    "R = (4/5) + C\n",
    "\n",
    "print('suhu adalah', R, 'Reamor')"
   ]
  },
  {
   "cell_type": "raw",
   "metadata": {},
   "source": [
    "#05 List "
   ]
  },
  {
   "cell_type": "code",
   "execution_count": null,
   "metadata": {},
   "outputs": [],
   "source": [
    "#list\n",
    "a = [1, 2, 3, 4, 5, 6, 7, 8, 9, 10]\n",
    "\n",
    "print(a)\n",
    "type(a)"
   ]
  },
  {
   "cell_type": "code",
   "execution_count": null,
   "metadata": {},
   "outputs": [],
   "source": [
    "#tuple\n",
    "b = (1, 2, 3, 4, 5, 6, 7, 8, 9, 10)\n",
    "\n",
    "print(b)\n",
    "type(b)"
   ]
  },
  {
   "cell_type": "code",
   "execution_count": null,
   "metadata": {},
   "outputs": [],
   "source": [
    "#multitype\n",
    "c = [1, 2, 3, 4, 5, 6.2, 7, 'delapan', 9, 10]\n",
    "\n",
    "print(c)"
   ]
  },
  {
   "cell_type": "code",
   "execution_count": null,
   "metadata": {},
   "outputs": [],
   "source": [
    "#akses data dalam list\n",
    "c = (1, 2, 3, 4, 5, 6.2, 7, 'delapan', 9, 10)\n",
    "\n",
    "data = c[4]\n",
    "print(data)\n"
   ]
  },
  {
   "cell_type": "code",
   "execution_count": null,
   "metadata": {},
   "outputs": [],
   "source": [
    "#merubah elemen data dalam list\n",
    "d = [1, 2, 3, 4, 5, 6, 7, 8, 9, 10]\n",
    "#e = [1, 2, 3, 4, 5, 6, 7, 8, 9, 10]\n",
    "\n",
    "#d[4] = 10\n",
    "\n",
    "f = 2 * d\n",
    "\n",
    "print(f)"
   ]
  },
  {
   "cell_type": "raw",
   "metadata": {},
   "source": [
    "#06 loop"
   ]
  },
  {
   "cell_type": "code",
   "execution_count": null,
   "metadata": {},
   "outputs": [],
   "source": [
    "#loop\n",
    "d = ['Hallo', 'Sapaan']\n",
    "for i in d:\n",
    "    print(i)\n",
    "    print(len(i))\n",
    "    "
   ]
  },
  {
   "cell_type": "code",
   "execution_count": null,
   "metadata": {},
   "outputs": [],
   "source": [
    "#List sebagai iterable\n",
    "e = [1, 4, 7, 10, 100, 1000]\n",
    "for i in e:\n",
    "    print (i)\n"
   ]
  },
  {
   "cell_type": "code",
   "execution_count": null,
   "metadata": {},
   "outputs": [],
   "source": [
    "#for dalam for\n",
    "num1 = [0, 1, 2, 3, 4, 5, 6, 7, 8, 9, 10]\n",
    "num2 = [10, 11, 12, 13, 14, 15, 16, 17, 18, 19, 20]\n",
    "num3 = [20, 21, 22, 23, 24, 25, 26, 27, 28, 29, 30]\n",
    "\n",
    "list_num = [num1, num2, num3]\n",
    "for sub_num in list_num:\n",
    "    print(sub_num)\n",
    "    for comp in sub_num:\n",
    "        print(comp)\n"
   ]
  },
  {
   "cell_type": "code",
   "execution_count": null,
   "metadata": {},
   "outputs": [],
   "source": [
    "#range\n",
    "for i in range(0,10):\n",
    "    print(i)"
   ]
  },
  {
   "cell_type": "code",
   "execution_count": null,
   "metadata": {},
   "outputs": [],
   "source": [
    "#range\n",
    "for i in range(0,10,2):\n",
    "    print(i)"
   ]
  },
  {
   "cell_type": "markdown",
   "metadata": {},
   "source": [
    "# NUMPY"
   ]
  }
 ],
 "metadata": {
  "kernelspec": {
   "display_name": "Python 3 (Spyder)",
   "language": "python3",
   "name": "python3"
  },
  "language_info": {
   "codemirror_mode": {
    "name": "ipython",
    "version": 3
   },
   "file_extension": ".py",
   "mimetype": "text/x-python",
   "name": "python",
   "nbconvert_exporter": "python",
   "pygments_lexer": "ipython3",
   "version": "3.7.6"
  }
 },
 "nbformat": 4,
 "nbformat_minor": 4
}
